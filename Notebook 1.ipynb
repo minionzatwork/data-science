{
 "cells": [
  {
   "cell_type": "markdown",
   "metadata": {
    "collapsed": true
   },
   "source": [
    "<h1>My Jupyter Notebook on IBM Watson Studio</h1>"
   ]
  },
  {
   "cell_type": "markdown",
   "metadata": {},
   "source": [
    "<strong>George John</strong>\n",
    "</br>Data Scientist"
   ]
  },
  {
   "cell_type": "markdown",
   "metadata": {},
   "source": [
    "<i>I am interested in data science because I love playing with large data to tell a story. I feel like a detective trying to get to the bottom of a mystery. I want to become a data scientist because I want to solve mysteries and tell stories</i>"
   ]
  },
  {
   "cell_type": "markdown",
   "metadata": {},
   "source": [
    "<h3>Cell 5 code demonstrates the law of large numbers: repeating an experiment makes the average result approach the expected value. The program below verifies this.</h3>"
   ]
  },
  {
   "cell_type": "code",
   "execution_count": 2,
   "metadata": {},
   "outputs": [
    {
     "name": "stdout",
     "output_type": "stream",
     "text": [
      "Enter total number of random numbers: 150\n",
      "Numbers that fall between -1 and 1:  64.0 %\n",
      "Numbers that are less than or equal to -1:  21.333333333333336 %\n",
      "Numbers that are Greater than or equal to 1:  14.666666666666666 %\n"
     ]
    }
   ],
   "source": [
    "import numpy as np #numpy is a package for scientific calculations, usually imported as 'np'\n",
    "from numpy.random import randn\n",
    "\n",
    "#---- -2 ---- -1 ---- 0 ---- 1 ---- 2 ----\n",
    "val = input(\"Enter total number of random numbers: \")\n",
    "val = int(val)\n",
    "\n",
    "g1 = []\n",
    "g2 = []\n",
    "g3 = []\n",
    "for i in randn(val):\n",
    "    if i < 1 and i > -1:\n",
    "        g1.append(i)\n",
    "    elif i <= -1:\n",
    "        g2.append(i) \n",
    "    else:\n",
    "        g3.append(i)\n",
    "        \n",
    "print(\"Numbers that fall between -1 and 1: \",(len(g1)/val) * 100,\"%\")\n",
    "print(\"Numbers that are less than or equal to -1: \",(len(g2)/val) * 100,\"%\")\n",
    "print(\"Numbers that are Greater than or equal to 1: \",(len(g3)/val) * 100,\"%\")"
   ]
  },
  {
   "cell_type": "markdown",
   "metadata": {},
   "source": [
    "1. Strikethrough: <strike>I changed my mind</strike>\n",
    "2. Numbered List: Yes\n",
    "3. Hyperlinks: https://github.com/\n",
    "\n",
    "\n",
    "    "
   ]
  },
  {
   "cell_type": "code",
   "execution_count": null,
   "metadata": {},
   "outputs": [],
   "source": []
  }
 ],
 "metadata": {
  "kernelspec": {
   "display_name": "Python 3.10",
   "language": "python",
   "name": "python3"
  },
  "language_info": {
   "codemirror_mode": {
    "name": "ipython",
    "version": 3
   },
   "file_extension": ".py",
   "mimetype": "text/x-python",
   "name": "python",
   "nbconvert_exporter": "python",
   "pygments_lexer": "ipython3",
   "version": "3.10.9"
  }
 },
 "nbformat": 4,
 "nbformat_minor": 1
}
